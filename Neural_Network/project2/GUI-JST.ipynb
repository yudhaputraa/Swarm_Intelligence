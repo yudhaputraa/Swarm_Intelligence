{
 "cells": [
  {
   "cell_type": "markdown",
   "metadata": {},
   "source": [
    "# Menggunakan JST Hasil Pelatiahn dgn GUI Desktop"
   ]
  },
  {
   "cell_type": "code",
   "execution_count": 3,
   "metadata": {},
   "outputs": [
    {
     "name": "stdout",
     "output_type": "stream",
     "text": [
      "1/1 [==============================] - 0s 127ms/step\n",
      "1/1 [==============================] - 0s 208ms/step - loss: 0.4517 - accuracy: 0.5714\n",
      "1/1 [==============================] - 0s 25ms/step - loss: 0.4517 - accuracy: 0.5714\n"
     ]
    },
    {
     "data": {
      "text/plain": [
       "[0.45173636078834534, 0.5714285969734192]"
      ]
     },
     "execution_count": 3,
     "metadata": {},
     "output_type": "execute_result"
    }
   ],
   "source": [
    "# import Pustaka\n",
    "import pandas as pd\n",
    "import numpy as np\n",
    "from keras.models import Sequential\n",
    "from keras.layers import Dense, Activation\n",
    "from keras.models import model_from_json\n",
    "\n",
    "# Mengambil data test\n",
    "data1 = pd.read_csv('testbeasiswa.csv')\n",
    "df2 = pd.DataFrame(data1, columns=['Mahasiswa','IPK','Tingkat Kemiskinan (TM)','Beasiswa/Tidak'])\n",
    "X3 = np.asanyarray(data1)\n",
    "X_test = X3[:,1:3]\n",
    "y_test = X3[:,3:4]\n",
    "\n",
    "# Mengambil model JST dari File yaml\n",
    "json_file = open('model.yaml','r')\n",
    "loaded_model_json = json_file.read()\n",
    "json_file.close()\n",
    "loaded_model = model_from_json(loaded_model_json)\n",
    "\n",
    "# Mengambil bobot JST\n",
    "loaded_model.load_weights(\"model.h5\")\n",
    "\n",
    "# Kompilasi model JST\n",
    "loaded_model.compile(optimizer=\"Adam\",loss='binary_crossentropy', metrics=['accuracy'])\n",
    "\n",
    "# Prediksi\n",
    "pred =loaded_model.predict(X_test)\n",
    "\n",
    "# Hitung Akurasi\n",
    "loaded_model.evaluate(X_test,y_test, batch_size=None, verbose=1,sample_weight=None, steps=None)\n",
    "loaded_model.evaluate(X_test,y_test)\n"
   ]
  },
  {
   "cell_type": "code",
   "execution_count": 4,
   "metadata": {},
   "outputs": [],
   "source": [
    "import tkinter as tk\n",
    "def prediksi():\n",
    "    \"\"\" prediksi dgn JST\n",
    "    \"\"\"\n",
    "    x = ent_ipk.get()\n",
    "    X = np.array(float(x)).reshape(-1,1)\n",
    "    y = ent_tm.get()\n",
    "    Y = np.array(float(y)).reshape(-1,1)\n",
    "    data2 = np.concatenate([X,Y],axis=1)\n",
    "    jurusan = loaded_model.predict(data2)\n",
    "    jurusan = float(jurusan)\n",
    "    if(jurusan < 0.5):\n",
    "        hasil_jurusan[\"text\"] = \"Tidak Mendapatkan Beasiswa\"\n",
    "    else:\n",
    "        hasil_jurusan[\"text\"] = \"Mendapatkan Beasiswa\""
   ]
  },
  {
   "cell_type": "code",
   "execution_count": 8,
   "metadata": {},
   "outputs": [
    {
     "name": "stdout",
     "output_type": "stream",
     "text": [
      "1/1 [==============================] - 0s 35ms/step\n"
     ]
    }
   ],
   "source": [
    "## Set Window\n",
    "window = tk.Tk()\n",
    "window.title(\"Penentuan Beasiswa\")\n",
    "window.resizable(width=True, height=True)\n",
    "\n",
    "# Membuat widget utk masukan \n",
    "frm_entry = tk.Frame(master=window)\n",
    "ent_ipk = tk.Entry(master=frm_entry, width=10)\n",
    "lbl_varx = tk.Label(master=frm_entry, text=\"IPK\")\n",
    "ent_tm = tk.Entry(master=frm_entry, width=10)\n",
    "lbl_vary = tk.Label(master=frm_entry, text=\"Indeks Kemiskinan\")\n",
    "\n",
    "# Layout Form masukan dgn .grid() geometry manager\n",
    "ent_ipk.grid(row=0, column=1, sticky=\"e\")\n",
    "lbl_varx.grid(row=0,column=0,sticky=\"w\")\n",
    "lbl_vary.grid(row=1,column=0,sticky=\"w\")\n",
    "ent_tm.grid(row=1, column=1, sticky=\"e\")\n",
    "\n",
    "# Membuat tombol dan keluaran\n",
    "btn_convert = tk.Button(master=window, text=\"Penentuan Beasiswa\", command=prediksi)\n",
    "\n",
    "# Set-Up layout keluaran dgn .grid() geometry manager\n",
    "hasil_jurusan = tk.Label(master=frm_entry, width=20)\n",
    "lbl_jurusan = tk.Label(master=frm_entry, text=\"Hasil Uji Kelayakan : \")\n",
    "frm_entry.grid(row=0,column=1,padx=10)\n",
    "btn_convert.grid(row=1, column=1, pady=10)\n",
    "hasil_jurusan.grid(row=4,column=1,sticky=\"w\")\n",
    "lbl_jurusan.grid(row=4, column=0, sticky=\"w\")\n",
    "\n",
    "# Menjalankan aplikasi\n",
    "window.mainloop()"
   ]
  }
 ],
 "metadata": {
  "kernelspec": {
   "display_name": "tensorflow",
   "language": "python",
   "name": "python3"
  },
  "language_info": {
   "codemirror_mode": {
    "name": "ipython",
    "version": 3
   },
   "file_extension": ".py",
   "mimetype": "text/x-python",
   "name": "python",
   "nbconvert_exporter": "python",
   "pygments_lexer": "ipython3",
   "version": "3.9.17"
  },
  "orig_nbformat": 4
 },
 "nbformat": 4,
 "nbformat_minor": 2
}
