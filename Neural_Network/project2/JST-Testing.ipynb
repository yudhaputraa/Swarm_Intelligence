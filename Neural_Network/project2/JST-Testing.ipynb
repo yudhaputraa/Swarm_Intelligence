{
 "cells": [
  {
   "cell_type": "markdown",
   "metadata": {},
   "source": [
    "## Menjalankan Model JST Hasil Pelatiahan (Training)"
   ]
  },
  {
   "cell_type": "code",
   "execution_count": 11,
   "metadata": {},
   "outputs": [
    {
     "name": "stdout",
     "output_type": "stream",
     "text": [
      "[[0.75 0.74]\n",
      " [1.25 1.16]\n",
      " [0.67 1.69]\n",
      " [2.47 3.19]\n",
      " [3.54 2.45]\n",
      " [3.42 3.86]\n",
      " [2.67 3.47]]\n"
     ]
    }
   ],
   "source": [
    "# import Pustaka\n",
    "import pandas as pd\n",
    "import numpy as np\n",
    "from keras.models import Sequential\n",
    "from keras.layers import Dense, Activation\n",
    "from keras.models import model_from_json\n",
    "\n",
    "# Mengambil data test\n",
    "data3 = pd.read_csv('testbeasiswa.csv')\n",
    "df2 = pd.DataFrame(data3, columns=['Mahasiswa','IPK','Tingkat Kemiskinan (TM)','Beasiswa/Tidak'])\n",
    "X3 = np.asanyarray(data3)\n",
    "X_test = X3[:,1:3]\n",
    "y_test = X3[:,3:4]\n",
    "print(X_test)"
   ]
  },
  {
   "cell_type": "code",
   "execution_count": 12,
   "metadata": {},
   "outputs": [
    {
     "name": "stdout",
     "output_type": "stream",
     "text": [
      "model JST diambil dari file\n"
     ]
    }
   ],
   "source": [
    "# Mengambil model JST dari File yaml\n",
    "json_file = open('model.yaml','r')\n",
    "loaded_model_json = json_file.read()\n",
    "json_file.close()\n",
    "loaded_model = model_from_json(loaded_model_json)\n",
    "\n",
    "# Mengambil bobot JST\n",
    "loaded_model.load_weights(\"model.h5\")\n",
    "print(\"model JST diambil dari file\")"
   ]
  },
  {
   "cell_type": "markdown",
   "metadata": {},
   "source": [
    "Tahap terkahir adalah menguji dengan data testing. Fungsi yg digunakan sama dgn ketika memvalidasi model JST yaitu \"predict\" dan \"evaluate\"."
   ]
  },
  {
   "cell_type": "code",
   "execution_count": 13,
   "metadata": {},
   "outputs": [
    {
     "name": "stdout",
     "output_type": "stream",
     "text": [
      "1/1 [==============================] - 0s 85ms/step\n",
      "[[0.5019096 ]\n",
      " [0.5780849 ]\n",
      " [0.57913   ]\n",
      " [0.80676126]\n",
      " [0.8137846 ]\n",
      " [0.8774072 ]\n",
      " [0.83091575]]\n",
      "[[0.]\n",
      " [0.]\n",
      " [0.]\n",
      " [1.]\n",
      " [1.]\n",
      " [1.]\n",
      " [1.]]\n",
      "1/1 [==============================] - 0s 240ms/step - loss: 0.4517 - accuracy: 0.5714\n",
      "1/1 [==============================] - 0s 29ms/step - loss: 0.4517 - accuracy: 0.5714\n",
      "['loss', 'accuracy'] [0.45173636078834534, 0.5714285969734192]\n"
     ]
    }
   ],
   "source": [
    "# Kompilasi model JST\n",
    "loaded_model.compile(optimizer=\"Adam\",loss='binary_crossentropy', metrics=['accuracy'])\n",
    "\n",
    "# Prediksi\n",
    "pred =loaded_model.predict(X_test)\n",
    "print(pred)\n",
    "print(y_test)\n",
    "\n",
    "# Hitung Akurasi\n",
    "loaded_model.evaluate(X_test,y_test, batch_size=None, verbose=1,sample_weight=None, steps=None)\n",
    "print(loaded_model.metrics_names, loaded_model.evaluate(X_test,y_test))"
   ]
  }
 ],
 "metadata": {
  "kernelspec": {
   "display_name": "tensorflow",
   "language": "python",
   "name": "python3"
  },
  "language_info": {
   "codemirror_mode": {
    "name": "ipython",
    "version": 3
   },
   "file_extension": ".py",
   "mimetype": "text/x-python",
   "name": "python",
   "nbconvert_exporter": "python",
   "pygments_lexer": "ipython3",
   "version": "3.9.17"
  },
  "orig_nbformat": 4
 },
 "nbformat": 4,
 "nbformat_minor": 2
}
