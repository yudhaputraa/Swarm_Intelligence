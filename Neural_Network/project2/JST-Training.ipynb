{
 "cells": [
  {
   "cell_type": "markdown",
   "metadata": {},
   "source": [
    "# Jaringan Syaraf Tiruan (JST)"
   ]
  },
  {
   "cell_type": "markdown",
   "metadata": {},
   "source": [
    "## Menyiapkan Pustaka (Library)"
   ]
  },
  {
   "cell_type": "code",
   "execution_count": 21,
   "metadata": {},
   "outputs": [],
   "source": [
    "# import Pustaka\n",
    "import pandas as pd\n",
    "import numpy as np\n",
    "from keras.models import Sequential\n",
    "from keras.layers import Dense, Activation\n",
    "from keras.models import model_from_yaml"
   ]
  },
  {
   "cell_type": "markdown",
   "metadata": {},
   "source": [
    "## Menyiapkan Dataset"
   ]
  },
  {
   "cell_type": "code",
   "execution_count": 22,
   "metadata": {},
   "outputs": [],
   "source": [
    "# Data Training\n",
    "data1 = pd.read_csv('beasiswa.csv')\n",
    "df1 = pd.DataFrame(data1,columns=['Mahasiswa','IPK','Tingkat Kemiskinan (TM)', 'Beasiswa/Tidak'])\n",
    "X = np.asanyarray(data1)\n",
    "X_train = X[:,1:3]\n",
    "y_train = X[:,3:4]"
   ]
  },
  {
   "cell_type": "markdown",
   "metadata": {},
   "source": [
    "Data training adalah yang akan kita uji atau data yang akan di belajari oleh algoritma."
   ]
  },
  {
   "cell_type": "code",
   "execution_count": 23,
   "metadata": {},
   "outputs": [],
   "source": [
    "# Mengambil data validasi\n",
    "data2 = pd.read_csv('validasibeasiswa.csv')\n",
    "df2 = pd.DataFrame(data2, columns=['Mahasiswa','IPK','Tingkat Kemiskinan (TM)','Beasiswa/Tidak'])\n",
    "X2 = np.asanyarray(data2)\n",
    "X_val = X2[:,1:3]\n",
    "y_val = X2[:,3:4]"
   ]
  },
  {
   "cell_type": "markdown",
   "metadata": {},
   "source": [
    "Data Validasi merupakan data yang tidak digunakan dalam proses pelatihan untuk menghindari terjadinya bias."
   ]
  },
  {
   "cell_type": "code",
   "execution_count": 24,
   "metadata": {},
   "outputs": [],
   "source": [
    "# Mengambil data test\n",
    "data3 = pd.read_csv('testbeasiswa.csv')\n",
    "df2 = pd.DataFrame(data3, columns=['Mahasiswa','IPK','Tingkat Kemiskinan (TM)','Beasiswa/Tidak'])\n",
    "X3 = np.asanyarray(data3)\n",
    "X_test = X3[:,1:3]\n",
    "y_test = X3[:,3:4]"
   ]
  },
  {
   "cell_type": "markdown",
   "metadata": {},
   "source": [
    "Data Testing berfungi mengetahui performa pelatihan model, data testing bermaksud mengetahui performa model yang siap diimplementasikan.\n",
    "Data Testing ini tidak berasal dari data yang dipergunakan ketika pelatihan maupun validasi.\n",
    "Data testing merupakan data yang berasal dari kondisi riil di luar data yang di kumpulkan untuk pelatihan dan validasi."
   ]
  },
  {
   "cell_type": "code",
   "execution_count": 25,
   "metadata": {},
   "outputs": [
    {
     "data": {
      "text/plain": [
       "array([[0.75, 0.74],\n",
       "       [1.25, 1.16],\n",
       "       [0.67, 1.69],\n",
       "       [2.47, 3.19],\n",
       "       [3.54, 2.45],\n",
       "       [3.42, 3.86],\n",
       "       [2.67, 3.47]])"
      ]
     },
     "execution_count": 25,
     "metadata": {},
     "output_type": "execute_result"
    }
   ],
   "source": [
    "X_test"
   ]
  },
  {
   "cell_type": "markdown",
   "metadata": {},
   "source": [
    "Jika sudah benar, berikutnya adalah pembuatan model JST."
   ]
  },
  {
   "cell_type": "markdown",
   "metadata": {},
   "source": [
    "## Menyiapkan Model JST"
   ]
  },
  {
   "cell_type": "markdown",
   "metadata": {},
   "source": [
    "JST berisi sekumpulsn layer yang terdiri dari neuron-neuron. Model JST cukup banyak, di sini kita ambil contoh yang paling sederhana dan banyak dipakai yaitu model \"Sequential\"."
   ]
  },
  {
   "cell_type": "markdown",
   "metadata": {},
   "source": [
    "Pertama-tama satu variabel didefinisikan bernama “model” dengan tipe \"sequential\". Tiap layer perlu didefinisikan jumlah neuron, dan fungsi aktivasi. Khusus layer pertama perlu mendifinisikan dimensi input yang harus sesuai dengan input terhadap data yang dilatih. Untuk contoh kita sebesar dua buah input."
   ]
  },
  {
   "cell_type": "code",
   "execution_count": 26,
   "metadata": {},
   "outputs": [
    {
     "name": "stdout",
     "output_type": "stream",
     "text": [
      "Model: \"sequential_2\"\n",
      "_________________________________________________________________\n",
      " Layer (type)                Output Shape              Param #   \n",
      "=================================================================\n",
      " dense_12 (Dense)            (None, 64)                192       \n",
      "                                                                 \n",
      " dense_13 (Dense)            (None, 32)                2080      \n",
      "                                                                 \n",
      " dense_14 (Dense)            (None, 16)                528       \n",
      "                                                                 \n",
      " dense_15 (Dense)            (None, 8)                 136       \n",
      "                                                                 \n",
      " dense_16 (Dense)            (None, 4)                 36        \n",
      "                                                                 \n",
      " dense_17 (Dense)            (None, 1)                 5         \n",
      "                                                                 \n",
      "=================================================================\n",
      "Total params: 2977 (11.63 KB)\n",
      "Trainable params: 2977 (11.63 KB)\n",
      "Non-trainable params: 0 (0.00 Byte)\n",
      "_________________________________________________________________\n"
     ]
    }
   ],
   "source": [
    "# Mendifinisiakan arsitektur model\n",
    "model = Sequential()\n",
    "model.add(Dense(64, input_dim=2, activation=\"relu\")) # Layer 1 (NOTE : sesuikan dimensi input)\n",
    "model.add(Dense(32, activation=\"relu\"))# Layer 2\n",
    "model.add(Dense(16, activation=\"relu\"))# Layer 3\n",
    "model.add(Dense(8, activation=\"relu\"))# Layer 4\n",
    "model.add(Dense(4, activation=\"relu\"))# Layer 5\n",
    "model.add(Dense(1, activation=\"sigmoid\"))# Output Layer\n",
    "model.summary()"
   ]
  },
  {
   "cell_type": "markdown",
   "metadata": {},
   "source": [
    "Instruksi \"Dense\" bermaksud mendefinisikan tiap layer dengan beberapa fungsi aktivasi. Fungsi aktivasi merupakan fungsi yang mengantarkan dari masukan ke tiap neuron di layer yang sama ke neuron lainnya. Di sini kita menggunakan dua jenis fungsi yaitu \"relu\" dan \"sigmoid\". Khusus layer terakhir, memiliki satu neuron yang merupakan layer keluaran."
   ]
  },
  {
   "cell_type": "markdown",
   "metadata": {},
   "source": [
    "Berikutnya adalah mengonfigurasi dan melatih model JST yang sudah didefinisikan sebelumnya."
   ]
  },
  {
   "cell_type": "code",
   "execution_count": 27,
   "metadata": {},
   "outputs": [
    {
     "name": "stdout",
     "output_type": "stream",
     "text": [
      "Epoch 1/50\n"
     ]
    },
    {
     "name": "stdout",
     "output_type": "stream",
     "text": [
      "1/1 [==============================] - 2s 2s/step - loss: 0.6739 - accuracy: 0.5455 - val_loss: 0.6633 - val_accuracy: 0.5714\n",
      "Epoch 2/50\n",
      "1/1 [==============================] - 0s 42ms/step - loss: 0.6686 - accuracy: 0.5455 - val_loss: 0.6566 - val_accuracy: 0.5714\n",
      "Epoch 3/50\n",
      "1/1 [==============================] - 0s 43ms/step - loss: 0.6633 - accuracy: 0.5455 - val_loss: 0.6496 - val_accuracy: 0.5714\n",
      "Epoch 4/50\n",
      "1/1 [==============================] - 0s 48ms/step - loss: 0.6580 - accuracy: 0.5455 - val_loss: 0.6435 - val_accuracy: 0.5714\n",
      "Epoch 5/50\n",
      "1/1 [==============================] - 0s 53ms/step - loss: 0.6533 - accuracy: 0.5455 - val_loss: 0.6390 - val_accuracy: 0.5714\n",
      "Epoch 6/50\n",
      "1/1 [==============================] - 0s 49ms/step - loss: 0.6496 - accuracy: 0.5455 - val_loss: 0.6349 - val_accuracy: 0.5714\n",
      "Epoch 7/50\n",
      "1/1 [==============================] - 0s 44ms/step - loss: 0.6462 - accuracy: 0.5455 - val_loss: 0.6305 - val_accuracy: 0.5714\n",
      "Epoch 8/50\n",
      "1/1 [==============================] - 0s 45ms/step - loss: 0.6429 - accuracy: 0.5455 - val_loss: 0.6261 - val_accuracy: 0.5714\n",
      "Epoch 9/50\n",
      "1/1 [==============================] - 0s 56ms/step - loss: 0.6395 - accuracy: 0.5455 - val_loss: 0.6218 - val_accuracy: 0.5714\n",
      "Epoch 10/50\n",
      "1/1 [==============================] - 0s 58ms/step - loss: 0.6360 - accuracy: 0.5455 - val_loss: 0.6173 - val_accuracy: 0.5714\n",
      "Epoch 11/50\n",
      "1/1 [==============================] - 0s 73ms/step - loss: 0.6326 - accuracy: 0.5455 - val_loss: 0.6128 - val_accuracy: 0.5714\n",
      "Epoch 12/50\n",
      "1/1 [==============================] - 0s 51ms/step - loss: 0.6291 - accuracy: 0.5455 - val_loss: 0.6082 - val_accuracy: 0.5714\n",
      "Epoch 13/50\n",
      "1/1 [==============================] - 0s 46ms/step - loss: 0.6255 - accuracy: 0.5455 - val_loss: 0.6036 - val_accuracy: 0.5714\n",
      "Epoch 14/50\n",
      "1/1 [==============================] - 0s 43ms/step - loss: 0.6220 - accuracy: 0.5455 - val_loss: 0.5989 - val_accuracy: 0.5714\n",
      "Epoch 15/50\n",
      "1/1 [==============================] - 0s 50ms/step - loss: 0.6185 - accuracy: 0.5455 - val_loss: 0.5943 - val_accuracy: 0.5714\n",
      "Epoch 16/50\n",
      "1/1 [==============================] - 0s 46ms/step - loss: 0.6149 - accuracy: 0.5455 - val_loss: 0.5897 - val_accuracy: 0.5714\n",
      "Epoch 17/50\n",
      "1/1 [==============================] - 0s 42ms/step - loss: 0.6114 - accuracy: 0.5455 - val_loss: 0.5850 - val_accuracy: 0.5714\n",
      "Epoch 18/50\n",
      "1/1 [==============================] - 0s 43ms/step - loss: 0.6079 - accuracy: 0.5455 - val_loss: 0.5804 - val_accuracy: 0.5714\n",
      "Epoch 19/50\n",
      "1/1 [==============================] - 0s 42ms/step - loss: 0.6044 - accuracy: 0.5455 - val_loss: 0.5758 - val_accuracy: 0.5714\n",
      "Epoch 20/50\n",
      "1/1 [==============================] - 0s 44ms/step - loss: 0.6009 - accuracy: 0.5455 - val_loss: 0.5712 - val_accuracy: 0.5714\n",
      "Epoch 21/50\n",
      "1/1 [==============================] - 0s 45ms/step - loss: 0.5974 - accuracy: 0.5455 - val_loss: 0.5665 - val_accuracy: 0.5714\n",
      "Epoch 22/50\n",
      "1/1 [==============================] - 0s 44ms/step - loss: 0.5940 - accuracy: 0.5455 - val_loss: 0.5618 - val_accuracy: 0.5714\n",
      "Epoch 23/50\n",
      "1/1 [==============================] - 0s 43ms/step - loss: 0.5906 - accuracy: 0.5455 - val_loss: 0.5572 - val_accuracy: 0.5714\n",
      "Epoch 24/50\n",
      "1/1 [==============================] - 0s 45ms/step - loss: 0.5872 - accuracy: 0.5455 - val_loss: 0.5525 - val_accuracy: 0.5714\n",
      "Epoch 25/50\n",
      "1/1 [==============================] - 0s 46ms/step - loss: 0.5839 - accuracy: 0.5455 - val_loss: 0.5479 - val_accuracy: 0.5714\n",
      "Epoch 26/50\n",
      "1/1 [==============================] - 0s 43ms/step - loss: 0.5807 - accuracy: 0.5455 - val_loss: 0.5433 - val_accuracy: 0.5714\n",
      "Epoch 27/50\n",
      "1/1 [==============================] - 0s 44ms/step - loss: 0.5776 - accuracy: 0.5455 - val_loss: 0.5388 - val_accuracy: 0.5714\n",
      "Epoch 28/50\n",
      "1/1 [==============================] - 0s 41ms/step - loss: 0.5746 - accuracy: 0.5455 - val_loss: 0.5344 - val_accuracy: 0.5714\n",
      "Epoch 29/50\n",
      "1/1 [==============================] - 0s 43ms/step - loss: 0.5717 - accuracy: 0.5455 - val_loss: 0.5302 - val_accuracy: 0.5714\n",
      "Epoch 30/50\n",
      "1/1 [==============================] - 0s 45ms/step - loss: 0.5690 - accuracy: 0.5455 - val_loss: 0.5261 - val_accuracy: 0.5714\n",
      "Epoch 31/50\n",
      "1/1 [==============================] - 0s 46ms/step - loss: 0.5664 - accuracy: 0.5455 - val_loss: 0.5221 - val_accuracy: 0.5714\n",
      "Epoch 32/50\n",
      "1/1 [==============================] - 0s 51ms/step - loss: 0.5640 - accuracy: 0.5455 - val_loss: 0.5184 - val_accuracy: 0.5714\n",
      "Epoch 33/50\n",
      "1/1 [==============================] - 0s 47ms/step - loss: 0.5617 - accuracy: 0.5455 - val_loss: 0.5149 - val_accuracy: 0.5714\n",
      "Epoch 34/50\n",
      "1/1 [==============================] - 0s 48ms/step - loss: 0.5596 - accuracy: 0.5455 - val_loss: 0.5115 - val_accuracy: 0.5714\n",
      "Epoch 35/50\n",
      "1/1 [==============================] - 0s 42ms/step - loss: 0.5576 - accuracy: 0.5455 - val_loss: 0.5083 - val_accuracy: 0.5714\n",
      "Epoch 36/50\n",
      "1/1 [==============================] - 0s 42ms/step - loss: 0.5558 - accuracy: 0.5455 - val_loss: 0.5052 - val_accuracy: 0.5714\n",
      "Epoch 37/50\n",
      "1/1 [==============================] - 0s 43ms/step - loss: 0.5540 - accuracy: 0.5455 - val_loss: 0.5023 - val_accuracy: 0.5714\n",
      "Epoch 38/50\n",
      "1/1 [==============================] - 0s 42ms/step - loss: 0.5522 - accuracy: 0.5455 - val_loss: 0.4995 - val_accuracy: 0.5714\n",
      "Epoch 39/50\n",
      "1/1 [==============================] - 0s 41ms/step - loss: 0.5505 - accuracy: 0.5455 - val_loss: 0.4969 - val_accuracy: 0.5714\n",
      "Epoch 40/50\n",
      "1/1 [==============================] - 0s 46ms/step - loss: 0.5488 - accuracy: 0.5455 - val_loss: 0.4944 - val_accuracy: 0.5714\n",
      "Epoch 41/50\n",
      "1/1 [==============================] - 0s 41ms/step - loss: 0.5470 - accuracy: 0.5455 - val_loss: 0.4920 - val_accuracy: 0.5714\n",
      "Epoch 42/50\n",
      "1/1 [==============================] - 0s 40ms/step - loss: 0.5452 - accuracy: 0.5455 - val_loss: 0.4896 - val_accuracy: 0.5714\n",
      "Epoch 43/50\n",
      "1/1 [==============================] - 0s 42ms/step - loss: 0.5434 - accuracy: 0.5455 - val_loss: 0.4873 - val_accuracy: 0.5714\n",
      "Epoch 44/50\n",
      "1/1 [==============================] - 0s 47ms/step - loss: 0.5415 - accuracy: 0.5455 - val_loss: 0.4851 - val_accuracy: 0.5714\n",
      "Epoch 45/50\n",
      "1/1 [==============================] - 0s 44ms/step - loss: 0.5396 - accuracy: 0.5455 - val_loss: 0.4830 - val_accuracy: 0.5714\n",
      "Epoch 46/50\n",
      "1/1 [==============================] - 0s 45ms/step - loss: 0.5376 - accuracy: 0.5455 - val_loss: 0.4809 - val_accuracy: 0.5714\n",
      "Epoch 47/50\n",
      "1/1 [==============================] - 0s 44ms/step - loss: 0.5355 - accuracy: 0.5455 - val_loss: 0.4787 - val_accuracy: 0.5714\n",
      "Epoch 48/50\n",
      "1/1 [==============================] - 0s 44ms/step - loss: 0.5333 - accuracy: 0.5455 - val_loss: 0.4765 - val_accuracy: 0.5714\n",
      "Epoch 49/50\n",
      "1/1 [==============================] - 0s 41ms/step - loss: 0.5311 - accuracy: 0.5455 - val_loss: 0.4743 - val_accuracy: 0.5714\n",
      "Epoch 50/50\n",
      "1/1 [==============================] - 0s 44ms/step - loss: 0.5288 - accuracy: 0.5455 - val_loss: 0.4722 - val_accuracy: 0.5714\n"
     ]
    },
    {
     "data": {
      "text/plain": [
       "<keras.src.callbacks.History at 0x1b8e5961430>"
      ]
     },
     "execution_count": 27,
     "metadata": {},
     "output_type": "execute_result"
    }
   ],
   "source": [
    "# Mengkonfigurasi Model\n",
    "model.compile(optimizer='Adam', loss='binary_crossentropy', metrics=['accuracy'])\n",
    "\n",
    "# Train the model\n",
    "model.fit(X_train,y_train, batch_size=64, epochs=50, validation_data=(X_val,y_val))"
   ]
  },
  {
   "cell_type": "markdown",
   "metadata": {},
   "source": [
    "## Validasi Model JST"
   ]
  },
  {
   "cell_type": "markdown",
   "metadata": {},
   "source": [
    "Untuk menjalankan model JST untuk input yang lain bisa menggunakan fungsi \"model.evaluate\". Sebenarnya validasi sudah sekaligus dijalankan ketika proses pelatihan pada langkah sebelumnya."
   ]
  },
  {
   "cell_type": "markdown",
   "metadata": {},
   "source": [
    "Untuk mengetahui akurasi sebuah model JST, fungsi yang digunakan adalah \"evaluate\", sementara untuk memprediksi hasil dari satu inputan dengan fungsi \"predict\". Karena tahap validasi maka akan diuji dengan memprediksi keluaran JST terhadap masukan data validasi, dilanjutkan dengan mengukur akurasinya."
   ]
  },
  {
   "cell_type": "code",
   "execution_count": 28,
   "metadata": {},
   "outputs": [
    {
     "name": "stdout",
     "output_type": "stream",
     "text": [
      "1/1 [==============================] - 0s 100ms/step\n",
      "[[0.52440435]\n",
      " [0.59654415]\n",
      " [0.5797833 ]\n",
      " [0.79489833]\n",
      " [0.8027591 ]\n",
      " [0.87097305]\n",
      " [0.8185429 ]]\n"
     ]
    }
   ],
   "source": [
    "# Prediksi hasil simulasi model JST terhadap data validasi\n",
    "pred = model.predict(X_val)\n",
    "print(pred)"
   ]
  },
  {
   "cell_type": "code",
   "execution_count": 29,
   "metadata": {},
   "outputs": [
    {
     "name": "stdout",
     "output_type": "stream",
     "text": [
      "1/1 [==============================] - 0s 31ms/step - loss: 0.4722 - accuracy: 0.5714\n",
      "1/1 [==============================] - 0s 32ms/step - loss: 0.4722 - accuracy: 0.5714\n",
      "['loss', 'accuracy'] [0.4722108244895935, 0.5714285969734192]\n"
     ]
    }
   ],
   "source": [
    "# Menghitung akurasi dan error(loss)\n",
    "model.evaluate(x=X_val, y=y_val, batch_size=None, verbose=1, sample_weight=None, steps=None)\n",
    "print(model.metrics_names, model.evaluate(X_val, y_val))"
   ]
  },
  {
   "cell_type": "markdown",
   "metadata": {},
   "source": [
    "Jika kita perhatikan hasil di atas antara prediksi (pred) dengan target (y_val) menunjukan error sebanyak dua buah pada baris kedua dan ketiga dimana harusnya nol tapi menunjukan 0,54 dan 0,53 yang jika dibulatkan menjadi satu. Dengan akurasi versi Mean Average Percentage Error (MAPE) diperoleh error 2/7 = 0,29 (29%)."
   ]
  },
  {
   "cell_type": "markdown",
   "metadata": {},
   "source": [
    "## Menyimpan Model JST"
   ]
  },
  {
   "cell_type": "markdown",
   "metadata": {},
   "source": [
    "Tahap Penting Berikutnya adalah menyimpan model JST yang telah dilatih dalam bentuk file agar bisa digunakan utk program python lainnya.\n",
    "Sementara itu yg perlu diingat, yg disimpan adalah bobot dan bias hasil pelatihan dalam model JST yang disimpan.\n",
    "Arsitektur tersimpan dlm file berekstensi *.h5."
   ]
  },
  {
   "cell_type": "code",
   "execution_count": 31,
   "metadata": {},
   "outputs": [
    {
     "name": "stdout",
     "output_type": "stream",
     "text": [
      "save model to disk\n"
     ]
    }
   ],
   "source": [
    "# Serialize model to YAML\n",
    "model_json = model.to_json()\n",
    "with open(\"model.yaml\", \"w\") as json_file:\n",
    "    json_file.write(model_json)\n",
    "\n",
    "# Serialize Weights to HDF5\n",
    "model.save_weights(\"model.h5\")\n",
    "print(\"save model to disk\")"
   ]
  }
 ],
 "metadata": {
  "kernelspec": {
   "display_name": "tensorflow",
   "language": "python",
   "name": "python3"
  },
  "language_info": {
   "codemirror_mode": {
    "name": "ipython",
    "version": 3
   },
   "file_extension": ".py",
   "mimetype": "text/x-python",
   "name": "python",
   "nbconvert_exporter": "python",
   "pygments_lexer": "ipython3",
   "version": "3.9.17"
  },
  "orig_nbformat": 4
 },
 "nbformat": 4,
 "nbformat_minor": 2
}
