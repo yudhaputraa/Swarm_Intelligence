{
 "cells": [
  {
   "cell_type": "markdown",
   "metadata": {},
   "source": [
    "# Jaringan Syaraf Tiruan (JST)"
   ]
  },
  {
   "cell_type": "markdown",
   "metadata": {},
   "source": [
    "## Menyiapkan Pustaka (Library)"
   ]
  },
  {
   "cell_type": "code",
   "execution_count": 2,
   "metadata": {},
   "outputs": [],
   "source": [
    "# import Pustaka\n",
    "import pandas as pd\n",
    "import numpy as np\n",
    "from keras.models import Sequential\n",
    "from keras.layers import Dense, Activation\n",
    "from keras.models import model_from_yaml"
   ]
  },
  {
   "cell_type": "markdown",
   "metadata": {},
   "source": [
    "## Menyiapkan Dataset"
   ]
  },
  {
   "cell_type": "code",
   "execution_count": 3,
   "metadata": {},
   "outputs": [],
   "source": [
    "# Data Training\n",
    "data1 = pd.read_csv('beasiswa.csv')\n",
    "df1 = pd.DataFrame(data1,columns=['Mahasiswa','IPK','Tingkat Kemiskinan (TM)', 'Beasiswa/Tidak'])\n",
    "X = np.asanyarray(data1)\n",
    "X_train = X[:,1:3]\n",
    "y_train = X[:,3:4]"
   ]
  },
  {
   "cell_type": "markdown",
   "metadata": {},
   "source": [
    "Data training adalah yang akan kita uji atau data yang akan di belajari oleh algoritma."
   ]
  },
  {
   "cell_type": "code",
   "execution_count": 5,
   "metadata": {},
   "outputs": [],
   "source": [
    "# Mengambil data validasi\n",
    "data2 = pd.read_csv('validasibeasiswa.csv')\n",
    "df2 = pd.DataFrame(data2, columns=['Mahasiswa','IPK','Tingkat Kemiskinan (TM)','Beasiswa/Tidak'])\n",
    "X2 = np.asanyarray(data2)\n",
    "X_val = X2[:,1:3]\n",
    "y_val = X2[:,3:4]"
   ]
  },
  {
   "cell_type": "markdown",
   "metadata": {},
   "source": [
    "Data Validasi merupakan data yang tidak digunakan dalam proses pelatihan untuk menghindari terjadinya bias."
   ]
  },
  {
   "cell_type": "code",
   "execution_count": 6,
   "metadata": {},
   "outputs": [],
   "source": [
    "# Mengambil data test\n",
    "data3 = pd.read_csv('testbeasiswa.csv')\n",
    "df2 = pd.DataFrame(data3, columns=['Mahasiswa','IPK','Tingkat Kemiskinan (TM)','Beasiswa/Tidak'])\n",
    "X3 = np.asanyarray(data3)\n",
    "X_test = X3[:,1:3]\n",
    "y_test = X3[:,3:4]"
   ]
  },
  {
   "cell_type": "markdown",
   "metadata": {},
   "source": [
    "Data Testing berfungi mengetahui performa pelatihan model, data testing bermaksud mengetahui performa model yang siap diimplementasikan.\n",
    "Data Testing ini tidak berasal dari data yang dipergunakan ketika pelatihan maupun validasi.\n",
    "Data testing merupakan data yang berasal dari kondisi riil di luar data yang di kumpulkan untuk pelatihan dan validasi."
   ]
  },
  {
   "cell_type": "code",
   "execution_count": 7,
   "metadata": {},
   "outputs": [
    {
     "data": {
      "text/plain": [
       "array([[0.75, 0.74],\n",
       "       [1.25, 1.16],\n",
       "       [0.67, 1.69],\n",
       "       [2.47, 3.19],\n",
       "       [3.54, 2.45],\n",
       "       [3.42, 3.86],\n",
       "       [2.67, 3.47]])"
      ]
     },
     "execution_count": 7,
     "metadata": {},
     "output_type": "execute_result"
    }
   ],
   "source": [
    "X_test"
   ]
  },
  {
   "cell_type": "markdown",
   "metadata": {},
   "source": [
    "Jika sudah benar, berikutnya adalah pembuatan model JST."
   ]
  }
 ],
 "metadata": {
  "kernelspec": {
   "display_name": "tensorflow",
   "language": "python",
   "name": "python3"
  },
  "language_info": {
   "codemirror_mode": {
    "name": "ipython",
    "version": 3
   },
   "file_extension": ".py",
   "mimetype": "text/x-python",
   "name": "python",
   "nbconvert_exporter": "python",
   "pygments_lexer": "ipython3",
   "version": "3.9.17"
  },
  "orig_nbformat": 4
 },
 "nbformat": 4,
 "nbformat_minor": 2
}
