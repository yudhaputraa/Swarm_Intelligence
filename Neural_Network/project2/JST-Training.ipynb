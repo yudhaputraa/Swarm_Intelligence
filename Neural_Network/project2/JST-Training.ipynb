{
 "cells": [
  {
   "cell_type": "markdown",
   "metadata": {},
   "source": [
    "# Jaringan Syaraf Tiruan (JST)"
   ]
  },
  {
   "cell_type": "markdown",
   "metadata": {},
   "source": [
    "## Menyiapkan Pustaka (Library)"
   ]
  },
  {
   "cell_type": "code",
   "execution_count": 9,
   "metadata": {},
   "outputs": [],
   "source": [
    "# import Pustaka\n",
    "import pandas as pd\n",
    "import numpy as np\n",
    "from keras.models import Sequential\n",
    "from keras.layers import Dense, Activation\n",
    "from keras.models import model_from_yaml"
   ]
  },
  {
   "cell_type": "markdown",
   "metadata": {},
   "source": [
    "## Menyiapkan Dataset"
   ]
  },
  {
   "cell_type": "code",
   "execution_count": 10,
   "metadata": {},
   "outputs": [],
   "source": [
    "# Data Training\n",
    "data1 = pd.read_csv('beasiswa.csv')\n",
    "df1 = pd.DataFrame(data1,columns=['Mahasiswa','IPK','Tingkat Kemiskinan (TM)', 'Beasiswa/Tidak'])\n",
    "X = np.asanyarray(data1)\n",
    "X_train = X[:,1:3]\n",
    "y_train = X[:,3:4]"
   ]
  },
  {
   "cell_type": "markdown",
   "metadata": {},
   "source": [
    "Data training adalah yang akan kita uji atau data yang akan di belajari oleh algoritma."
   ]
  },
  {
   "cell_type": "code",
   "execution_count": 11,
   "metadata": {},
   "outputs": [],
   "source": [
    "# Mengambil data validasi\n",
    "data2 = pd.read_csv('validasibeasiswa.csv')\n",
    "df2 = pd.DataFrame(data2, columns=['Mahasiswa','IPK','Tingkat Kemiskinan (TM)','Beasiswa/Tidak'])\n",
    "X2 = np.asanyarray(data2)\n",
    "X_val = X2[:,1:3]\n",
    "y_val = X2[:,3:4]"
   ]
  },
  {
   "cell_type": "markdown",
   "metadata": {},
   "source": [
    "Data Validasi merupakan data yang tidak digunakan dalam proses pelatihan untuk menghindari terjadinya bias."
   ]
  },
  {
   "cell_type": "code",
   "execution_count": 12,
   "metadata": {},
   "outputs": [],
   "source": [
    "# Mengambil data test\n",
    "data3 = pd.read_csv('testbeasiswa.csv')\n",
    "df2 = pd.DataFrame(data3, columns=['Mahasiswa','IPK','Tingkat Kemiskinan (TM)','Beasiswa/Tidak'])\n",
    "X3 = np.asanyarray(data3)\n",
    "X_test = X3[:,1:3]\n",
    "y_test = X3[:,3:4]"
   ]
  },
  {
   "cell_type": "markdown",
   "metadata": {},
   "source": [
    "Data Testing berfungi mengetahui performa pelatihan model, data testing bermaksud mengetahui performa model yang siap diimplementasikan.\n",
    "Data Testing ini tidak berasal dari data yang dipergunakan ketika pelatihan maupun validasi.\n",
    "Data testing merupakan data yang berasal dari kondisi riil di luar data yang di kumpulkan untuk pelatihan dan validasi."
   ]
  },
  {
   "cell_type": "code",
   "execution_count": 13,
   "metadata": {},
   "outputs": [
    {
     "data": {
      "text/plain": [
       "array([[0.75, 0.74],\n",
       "       [1.25, 1.16],\n",
       "       [0.67, 1.69],\n",
       "       [2.47, 3.19],\n",
       "       [3.54, 2.45],\n",
       "       [3.42, 3.86],\n",
       "       [2.67, 3.47]])"
      ]
     },
     "execution_count": 13,
     "metadata": {},
     "output_type": "execute_result"
    }
   ],
   "source": [
    "X_test"
   ]
  },
  {
   "cell_type": "markdown",
   "metadata": {},
   "source": [
    "Jika sudah benar, berikutnya adalah pembuatan model JST."
   ]
  },
  {
   "cell_type": "markdown",
   "metadata": {},
   "source": [
    "## Menyiapkan Model JST"
   ]
  },
  {
   "cell_type": "markdown",
   "metadata": {},
   "source": [
    "JST berisi sekumpulsn layer yang terdiri dari neuron-neuron. Model JST cukup banyak, di sini kita ambil contoh yang paling sederhana dan banyak dipakai yaitu model \"Sequential\"."
   ]
  },
  {
   "cell_type": "markdown",
   "metadata": {},
   "source": [
    "Pertama-tama satu variabel didefinisikan bernama “model” dengan tipe \"sequential\". Tiap layer perlu didefinisikan jumlah neuron, dan fungsi aktivasi. Khusus layer pertama perlu mendifinisikan dimensi input yang harus sesuai dengan input terhadap data yang dilatih. Untuk contoh kita sebesar dua buah input."
   ]
  },
  {
   "cell_type": "code",
   "execution_count": 14,
   "metadata": {},
   "outputs": [
    {
     "name": "stdout",
     "output_type": "stream",
     "text": [
      "Model: \"sequential_1\"\n",
      "_________________________________________________________________\n",
      " Layer (type)                Output Shape              Param #   \n",
      "=================================================================\n",
      " dense_6 (Dense)             (None, 64)                192       \n",
      "                                                                 \n",
      " dense_7 (Dense)             (None, 32)                2080      \n",
      "                                                                 \n",
      " dense_8 (Dense)             (None, 16)                528       \n",
      "                                                                 \n",
      " dense_9 (Dense)             (None, 8)                 136       \n",
      "                                                                 \n",
      " dense_10 (Dense)            (None, 4)                 36        \n",
      "                                                                 \n",
      " dense_11 (Dense)            (None, 1)                 5         \n",
      "                                                                 \n",
      "=================================================================\n",
      "Total params: 2977 (11.63 KB)\n",
      "Trainable params: 2977 (11.63 KB)\n",
      "Non-trainable params: 0 (0.00 Byte)\n",
      "_________________________________________________________________\n"
     ]
    }
   ],
   "source": [
    "# Mendifinisiakan arsitektur model\n",
    "model = Sequential()\n",
    "model.add(Dense(64, input_dim=2, activation=\"relu\")) # Layer 1 (NOTE : sesuikan dimensi input)\n",
    "model.add(Dense(32, activation=\"relu\"))# Layer 2\n",
    "model.add(Dense(16, activation=\"relu\"))# Layer 3\n",
    "model.add(Dense(8, activation=\"relu\"))# Layer 4\n",
    "model.add(Dense(4, activation=\"relu\"))# Layer 5\n",
    "model.add(Dense(1, activation=\"sigmoid\"))# Output Layer\n",
    "model.summary()"
   ]
  },
  {
   "cell_type": "markdown",
   "metadata": {},
   "source": [
    "Instruksi \"Dense\" bermaksud mendefinisikan tiap layer dengan beberapa fungsi aktivasi. Fungsi aktivasi merupakan fungsi yang mengantarkan dari masukan ke tiap neuron di layer yang sama ke neuron lainnya. Di sini kita menggunakan dua jenis fungsi yaitu \"relu\" dan \"sigmoid\". Khusus layer terakhir, memiliki satu neuron yang merupakan layer keluaran."
   ]
  },
  {
   "cell_type": "markdown",
   "metadata": {},
   "source": [
    "Berikutnya adalah mengonfigurasi dan melatih model JST yang sudah didefinisikan sebelumnya."
   ]
  },
  {
   "cell_type": "code",
   "execution_count": 16,
   "metadata": {},
   "outputs": [
    {
     "name": "stdout",
     "output_type": "stream",
     "text": [
      "Epoch 1/50\n",
      "1/1 [==============================] - 2s 2s/step - loss: 0.6423 - accuracy: 0.5455 - val_loss: 0.6170 - val_accuracy: 0.5714\n",
      "Epoch 2/50\n",
      "1/1 [==============================] - 0s 52ms/step - loss: 0.6332 - accuracy: 0.5455 - val_loss: 0.6062 - val_accuracy: 0.5714\n",
      "Epoch 3/50\n",
      "1/1 [==============================] - 0s 54ms/step - loss: 0.6248 - accuracy: 0.5455 - val_loss: 0.5959 - val_accuracy: 0.5714\n",
      "Epoch 4/50\n",
      "1/1 [==============================] - 0s 51ms/step - loss: 0.6168 - accuracy: 0.5455 - val_loss: 0.5860 - val_accuracy: 0.5714\n",
      "Epoch 5/50\n",
      "1/1 [==============================] - 0s 52ms/step - loss: 0.6093 - accuracy: 0.5455 - val_loss: 0.5766 - val_accuracy: 0.5714\n",
      "Epoch 6/50\n",
      "1/1 [==============================] - 0s 50ms/step - loss: 0.6021 - accuracy: 0.5455 - val_loss: 0.5677 - val_accuracy: 0.5714\n",
      "Epoch 7/50\n",
      "1/1 [==============================] - 0s 49ms/step - loss: 0.5953 - accuracy: 0.5455 - val_loss: 0.5590 - val_accuracy: 0.5714\n",
      "Epoch 8/50\n",
      "1/1 [==============================] - 0s 52ms/step - loss: 0.5888 - accuracy: 0.5455 - val_loss: 0.5503 - val_accuracy: 0.5714\n",
      "Epoch 9/50\n",
      "1/1 [==============================] - 0s 47ms/step - loss: 0.5828 - accuracy: 0.5455 - val_loss: 0.5420 - val_accuracy: 0.5714\n",
      "Epoch 10/50\n",
      "1/1 [==============================] - 0s 45ms/step - loss: 0.5771 - accuracy: 0.5455 - val_loss: 0.5342 - val_accuracy: 0.5714\n",
      "Epoch 11/50\n",
      "1/1 [==============================] - 0s 46ms/step - loss: 0.5720 - accuracy: 0.5455 - val_loss: 0.5270 - val_accuracy: 0.5714\n",
      "Epoch 12/50\n",
      "1/1 [==============================] - 0s 46ms/step - loss: 0.5673 - accuracy: 0.5455 - val_loss: 0.5203 - val_accuracy: 0.5714\n",
      "Epoch 13/50\n",
      "1/1 [==============================] - 0s 42ms/step - loss: 0.5631 - accuracy: 0.5455 - val_loss: 0.5141 - val_accuracy: 0.5714\n",
      "Epoch 14/50\n",
      "1/1 [==============================] - 0s 49ms/step - loss: 0.5593 - accuracy: 0.5455 - val_loss: 0.5085 - val_accuracy: 0.5714\n",
      "Epoch 15/50\n",
      "1/1 [==============================] - 0s 53ms/step - loss: 0.5558 - accuracy: 0.5455 - val_loss: 0.5033 - val_accuracy: 0.5714\n",
      "Epoch 16/50\n",
      "1/1 [==============================] - 0s 51ms/step - loss: 0.5527 - accuracy: 0.5455 - val_loss: 0.4984 - val_accuracy: 0.5714\n",
      "Epoch 17/50\n",
      "1/1 [==============================] - 0s 47ms/step - loss: 0.5498 - accuracy: 0.5455 - val_loss: 0.4939 - val_accuracy: 0.5714\n",
      "Epoch 18/50\n",
      "1/1 [==============================] - 0s 48ms/step - loss: 0.5471 - accuracy: 0.5455 - val_loss: 0.4897 - val_accuracy: 0.5714\n",
      "Epoch 19/50\n",
      "1/1 [==============================] - 0s 45ms/step - loss: 0.5444 - accuracy: 0.5455 - val_loss: 0.4858 - val_accuracy: 0.5714\n",
      "Epoch 20/50\n",
      "1/1 [==============================] - 0s 44ms/step - loss: 0.5418 - accuracy: 0.5455 - val_loss: 0.4822 - val_accuracy: 0.5714\n",
      "Epoch 21/50\n",
      "1/1 [==============================] - 0s 48ms/step - loss: 0.5392 - accuracy: 0.5455 - val_loss: 0.4789 - val_accuracy: 0.5714\n",
      "Epoch 22/50\n",
      "1/1 [==============================] - 0s 48ms/step - loss: 0.5365 - accuracy: 0.5455 - val_loss: 0.4761 - val_accuracy: 0.5714\n",
      "Epoch 23/50\n",
      "1/1 [==============================] - 0s 44ms/step - loss: 0.5337 - accuracy: 0.5455 - val_loss: 0.4732 - val_accuracy: 0.5714\n",
      "Epoch 24/50\n",
      "1/1 [==============================] - 0s 45ms/step - loss: 0.5308 - accuracy: 0.5455 - val_loss: 0.4699 - val_accuracy: 0.5714\n",
      "Epoch 25/50\n",
      "1/1 [==============================] - 0s 46ms/step - loss: 0.5279 - accuracy: 0.5455 - val_loss: 0.4664 - val_accuracy: 0.5714\n",
      "Epoch 26/50\n",
      "1/1 [==============================] - 0s 46ms/step - loss: 0.5248 - accuracy: 0.5455 - val_loss: 0.4626 - val_accuracy: 0.5714\n",
      "Epoch 27/50\n",
      "1/1 [==============================] - 0s 44ms/step - loss: 0.5215 - accuracy: 0.5455 - val_loss: 0.4590 - val_accuracy: 0.5714\n",
      "Epoch 28/50\n",
      "1/1 [==============================] - 0s 44ms/step - loss: 0.5181 - accuracy: 0.5455 - val_loss: 0.4557 - val_accuracy: 0.5714\n",
      "Epoch 29/50\n",
      "1/1 [==============================] - 0s 54ms/step - loss: 0.5146 - accuracy: 0.5455 - val_loss: 0.4524 - val_accuracy: 0.5714\n",
      "Epoch 30/50\n",
      "1/1 [==============================] - 0s 61ms/step - loss: 0.5112 - accuracy: 0.5455 - val_loss: 0.4492 - val_accuracy: 0.5714\n",
      "Epoch 31/50\n",
      "1/1 [==============================] - 0s 44ms/step - loss: 0.5079 - accuracy: 0.5455 - val_loss: 0.4462 - val_accuracy: 0.5714\n",
      "Epoch 32/50\n",
      "1/1 [==============================] - 0s 43ms/step - loss: 0.5046 - accuracy: 0.5455 - val_loss: 0.4433 - val_accuracy: 0.5714\n",
      "Epoch 33/50\n",
      "1/1 [==============================] - 0s 45ms/step - loss: 0.5011 - accuracy: 0.5455 - val_loss: 0.4404 - val_accuracy: 0.5714\n",
      "Epoch 34/50\n",
      "1/1 [==============================] - 0s 45ms/step - loss: 0.4976 - accuracy: 0.5455 - val_loss: 0.4372 - val_accuracy: 0.5714\n",
      "Epoch 35/50\n",
      "1/1 [==============================] - 0s 52ms/step - loss: 0.4942 - accuracy: 0.5455 - val_loss: 0.4341 - val_accuracy: 0.7143\n",
      "Epoch 36/50\n",
      "1/1 [==============================] - 0s 46ms/step - loss: 0.4909 - accuracy: 0.5455 - val_loss: 0.4309 - val_accuracy: 0.7143\n",
      "Epoch 37/50\n",
      "1/1 [==============================] - 0s 45ms/step - loss: 0.4874 - accuracy: 0.5455 - val_loss: 0.4278 - val_accuracy: 0.7143\n",
      "Epoch 38/50\n",
      "1/1 [==============================] - 0s 48ms/step - loss: 0.4838 - accuracy: 0.5455 - val_loss: 0.4247 - val_accuracy: 0.7143\n",
      "Epoch 39/50\n",
      "1/1 [==============================] - 0s 44ms/step - loss: 0.4801 - accuracy: 0.6364 - val_loss: 0.4221 - val_accuracy: 0.8571\n",
      "Epoch 40/50\n",
      "1/1 [==============================] - 0s 46ms/step - loss: 0.4764 - accuracy: 0.6364 - val_loss: 0.4192 - val_accuracy: 0.8571\n",
      "Epoch 41/50\n",
      "1/1 [==============================] - 0s 46ms/step - loss: 0.4728 - accuracy: 0.6364 - val_loss: 0.4160 - val_accuracy: 0.8571\n",
      "Epoch 42/50\n",
      "1/1 [==============================] - 0s 47ms/step - loss: 0.4689 - accuracy: 0.7273 - val_loss: 0.4128 - val_accuracy: 0.8571\n",
      "Epoch 43/50\n",
      "1/1 [==============================] - 0s 50ms/step - loss: 0.4650 - accuracy: 0.7273 - val_loss: 0.4093 - val_accuracy: 0.8571\n",
      "Epoch 44/50\n",
      "1/1 [==============================] - 0s 46ms/step - loss: 0.4609 - accuracy: 0.7273 - val_loss: 0.4058 - val_accuracy: 0.8571\n",
      "Epoch 45/50\n",
      "1/1 [==============================] - 0s 44ms/step - loss: 0.4573 - accuracy: 0.7273 - val_loss: 0.4018 - val_accuracy: 0.8571\n",
      "Epoch 46/50\n",
      "1/1 [==============================] - 0s 45ms/step - loss: 0.4538 - accuracy: 0.7273 - val_loss: 0.3976 - val_accuracy: 0.8571\n",
      "Epoch 47/50\n",
      "1/1 [==============================] - 0s 47ms/step - loss: 0.4501 - accuracy: 0.7273 - val_loss: 0.3930 - val_accuracy: 0.8571\n",
      "Epoch 48/50\n",
      "1/1 [==============================] - 0s 44ms/step - loss: 0.4465 - accuracy: 0.7273 - val_loss: 0.3884 - val_accuracy: 0.8571\n",
      "Epoch 49/50\n",
      "1/1 [==============================] - 0s 43ms/step - loss: 0.4429 - accuracy: 0.7273 - val_loss: 0.3840 - val_accuracy: 0.8571\n",
      "Epoch 50/50\n",
      "1/1 [==============================] - 0s 41ms/step - loss: 0.4395 - accuracy: 0.7273 - val_loss: 0.3797 - val_accuracy: 0.8571\n"
     ]
    },
    {
     "data": {
      "text/plain": [
       "<keras.src.callbacks.History at 0x1b8e2c356d0>"
      ]
     },
     "execution_count": 16,
     "metadata": {},
     "output_type": "execute_result"
    }
   ],
   "source": [
    "# Mengkonfigurasi Model\n",
    "model.compile(optimizer='Adam', loss='binary_crossentropy', metrics=['accuracy'])\n",
    "\n",
    "# Train the model\n",
    "model.fit(X_train,y_train, batch_size=64, epochs=50, validation_data=(X_val,y_val))"
   ]
  }
 ],
 "metadata": {
  "kernelspec": {
   "display_name": "tensorflow",
   "language": "python",
   "name": "python3"
  },
  "language_info": {
   "codemirror_mode": {
    "name": "ipython",
    "version": 3
   },
   "file_extension": ".py",
   "mimetype": "text/x-python",
   "name": "python",
   "nbconvert_exporter": "python",
   "pygments_lexer": "ipython3",
   "version": "3.9.17"
  },
  "orig_nbformat": 4
 },
 "nbformat": 4,
 "nbformat_minor": 2
}
