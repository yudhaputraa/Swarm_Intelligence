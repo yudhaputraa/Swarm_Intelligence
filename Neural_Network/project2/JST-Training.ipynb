{
 "cells": [
  {
   "cell_type": "markdown",
   "metadata": {},
   "source": [
    "# Jaringan Syaraf Tiruan (JST)"
   ]
  },
  {
   "cell_type": "markdown",
   "metadata": {},
   "source": [
    "## Menyiapkan Pustaka (Library)"
   ]
  },
  {
   "cell_type": "code",
   "execution_count": 1,
   "metadata": {},
   "outputs": [],
   "source": [
    "# import Pustaka\n",
    "import pandas as pd\n",
    "import numpy as np\n",
    "from keras.models import Sequential\n",
    "from keras.layers import Dense, Activation\n",
    "from keras.models import model_from_yaml"
   ]
  },
  {
   "cell_type": "markdown",
   "metadata": {},
   "source": [
    "## Menyiapkan Dataset"
   ]
  },
  {
   "cell_type": "code",
   "execution_count": 2,
   "metadata": {},
   "outputs": [],
   "source": [
    "# Data Training\n",
    "data1 = pd.read_csv('beasiswa.csv')\n",
    "df1 = pd.DataFrame(data1,columns=['Mahasiswa','IPK','Tingkat Kemiskinan (TM)', 'Beasiswa/Tidak'])\n",
    "X = np.asanyarray(data1)\n",
    "X_train = X[:,1:3]\n",
    "y_train = X[:,3:4]"
   ]
  },
  {
   "cell_type": "markdown",
   "metadata": {},
   "source": [
    "Data training adalah yang akan kita uji atau data yang akan di belajari oleh algoritma."
   ]
  },
  {
   "cell_type": "code",
   "execution_count": 3,
   "metadata": {},
   "outputs": [],
   "source": [
    "# Mengambil data validasi\n",
    "data2 = pd.read_csv('validasibeasiswa.csv')\n",
    "df2 = pd.DataFrame(data2, columns=['Mahasiswa','IPK','Tingkat Kemiskinan (TM)','Beasiswa/Tidak'])\n",
    "X2 = np.asanyarray(data2)\n",
    "X_val = X2[:,1:3]\n",
    "y_val = X2[:,3:4]"
   ]
  },
  {
   "cell_type": "markdown",
   "metadata": {},
   "source": [
    "Data Validasi merupakan data yang tidak digunakan dalam proses pelatihan untuk menghindari terjadinya bias."
   ]
  },
  {
   "cell_type": "code",
   "execution_count": 4,
   "metadata": {},
   "outputs": [],
   "source": [
    "# Mengambil data test\n",
    "data3 = pd.read_csv('testbeasiswa.csv')\n",
    "df2 = pd.DataFrame(data3, columns=['Mahasiswa','IPK','Tingkat Kemiskinan (TM)','Beasiswa/Tidak'])\n",
    "X3 = np.asanyarray(data3)\n",
    "X_test = X3[:,1:3]\n",
    "y_test = X3[:,3:4]"
   ]
  },
  {
   "cell_type": "markdown",
   "metadata": {},
   "source": [
    "Data Testing berfungi mengetahui performa pelatihan model, data testing bermaksud mengetahui performa model yang siap diimplementasikan.\n",
    "Data Testing ini tidak berasal dari data yang dipergunakan ketika pelatihan maupun validasi.\n",
    "Data testing merupakan data yang berasal dari kondisi riil di luar data yang di kumpulkan untuk pelatihan dan validasi."
   ]
  },
  {
   "cell_type": "code",
   "execution_count": 5,
   "metadata": {},
   "outputs": [
    {
     "data": {
      "text/plain": [
       "array([[0.75, 0.74],\n",
       "       [1.25, 1.16],\n",
       "       [0.67, 1.69],\n",
       "       [2.47, 3.19],\n",
       "       [3.54, 2.45],\n",
       "       [3.42, 3.86],\n",
       "       [2.67, 3.47]])"
      ]
     },
     "execution_count": 5,
     "metadata": {},
     "output_type": "execute_result"
    }
   ],
   "source": [
    "X_test"
   ]
  },
  {
   "cell_type": "markdown",
   "metadata": {},
   "source": [
    "Jika sudah benar, berikutnya adalah pembuatan model JST."
   ]
  },
  {
   "cell_type": "markdown",
   "metadata": {},
   "source": [
    "## Menyiapkan Model JST"
   ]
  },
  {
   "cell_type": "markdown",
   "metadata": {},
   "source": [
    "JST berisi sekumpulsn layer yang terdiri dari neuron-neuron. Model JST cukup banyak, di sini kita ambil contoh yang paling sederhana dan banyak dipakai yaitu model \"Sequential\"."
   ]
  },
  {
   "cell_type": "markdown",
   "metadata": {},
   "source": [
    "Pertama-tama satu variabel didefinisikan bernama “model” dengan tipe \"sequential\". Tiap layer perlu didefinisikan jumlah neuron, dan fungsi aktivasi. Khusus layer pertama perlu mendifinisikan dimensi input yang harus sesuai dengan input terhadap data yang dilatih. Untuk contoh kita sebesar dua buah input."
   ]
  },
  {
   "cell_type": "code",
   "execution_count": 6,
   "metadata": {},
   "outputs": [
    {
     "name": "stdout",
     "output_type": "stream",
     "text": [
      "Model: \"sequential\"\n",
      "_________________________________________________________________\n",
      " Layer (type)                Output Shape              Param #   \n",
      "=================================================================\n",
      " dense (Dense)               (None, 64)                192       \n",
      "                                                                 \n",
      " dense_1 (Dense)             (None, 32)                2080      \n",
      "                                                                 \n",
      " dense_2 (Dense)             (None, 16)                528       \n",
      "                                                                 \n",
      " dense_3 (Dense)             (None, 8)                 136       \n",
      "                                                                 \n",
      " dense_4 (Dense)             (None, 4)                 36        \n",
      "                                                                 \n",
      " dense_5 (Dense)             (None, 1)                 5         \n",
      "                                                                 \n",
      "=================================================================\n",
      "Total params: 2977 (11.63 KB)\n",
      "Trainable params: 2977 (11.63 KB)\n",
      "Non-trainable params: 0 (0.00 Byte)\n",
      "_________________________________________________________________\n"
     ]
    }
   ],
   "source": [
    "# Mendifinisiakan arsitektur model\n",
    "model = Sequential()\n",
    "model.add(Dense(64, input_dim=2, activation=\"relu\")) # Layer 1 (NOTE : sesuikan dimensi input)\n",
    "model.add(Dense(32, activation=\"relu\"))# Layer 2\n",
    "model.add(Dense(16, activation=\"relu\"))# Layer 3\n",
    "model.add(Dense(8, activation=\"relu\"))# Layer 4\n",
    "model.add(Dense(4, activation=\"relu\"))# Layer 5\n",
    "model.add(Dense(1, activation=\"sigmoid\"))# Output Layer\n",
    "model.summary()"
   ]
  },
  {
   "cell_type": "markdown",
   "metadata": {},
   "source": [
    "Instruksi \"Dense\" bermaksud mendefinisikan tiap layer dengan beberapa fungsi aktivasi. Fungsi aktivasi merupakan fungsi yang mengantarkan dari masukan ke tiap neuron di layer yang sama ke neuron lainnya. Di sini kita menggunakan dua jenis fungsi yaitu \"relu\" dan \"sigmoid\". Khusus layer terakhir, memiliki satu neuron yang merupakan layer keluaran."
   ]
  },
  {
   "cell_type": "markdown",
   "metadata": {},
   "source": [
    "Berikutnya adalah mengonfigurasi dan melatih model JST yang sudah didefinisikan sebelumnya."
   ]
  },
  {
   "cell_type": "code",
   "execution_count": 7,
   "metadata": {},
   "outputs": [
    {
     "name": "stdout",
     "output_type": "stream",
     "text": [
      "Epoch 1/50\n",
      "1/1 [==============================] - 1s 1s/step - loss: 0.6640 - accuracy: 0.5455 - val_loss: 0.6470 - val_accuracy: 0.5714\n",
      "Epoch 2/50\n",
      "1/1 [==============================] - 0s 34ms/step - loss: 0.6568 - accuracy: 0.5455 - val_loss: 0.6404 - val_accuracy: 0.5714\n",
      "Epoch 3/50\n",
      "1/1 [==============================] - 0s 33ms/step - loss: 0.6512 - accuracy: 0.5455 - val_loss: 0.6337 - val_accuracy: 0.5714\n",
      "Epoch 4/50\n",
      "1/1 [==============================] - 0s 33ms/step - loss: 0.6460 - accuracy: 0.5455 - val_loss: 0.6275 - val_accuracy: 0.5714\n",
      "Epoch 5/50\n",
      "1/1 [==============================] - 0s 32ms/step - loss: 0.6410 - accuracy: 0.5455 - val_loss: 0.6215 - val_accuracy: 0.5714\n",
      "Epoch 6/50\n",
      "1/1 [==============================] - 0s 34ms/step - loss: 0.6361 - accuracy: 0.5455 - val_loss: 0.6156 - val_accuracy: 0.5714\n",
      "Epoch 7/50\n",
      "1/1 [==============================] - 0s 31ms/step - loss: 0.6314 - accuracy: 0.5455 - val_loss: 0.6106 - val_accuracy: 0.5714\n",
      "Epoch 8/50\n",
      "1/1 [==============================] - 0s 35ms/step - loss: 0.6275 - accuracy: 0.5455 - val_loss: 0.6056 - val_accuracy: 0.5714\n",
      "Epoch 9/50\n",
      "1/1 [==============================] - 0s 35ms/step - loss: 0.6235 - accuracy: 0.5455 - val_loss: 0.6004 - val_accuracy: 0.5714\n",
      "Epoch 10/50\n",
      "1/1 [==============================] - 0s 34ms/step - loss: 0.6194 - accuracy: 0.5455 - val_loss: 0.5951 - val_accuracy: 0.5714\n",
      "Epoch 11/50\n",
      "1/1 [==============================] - 0s 34ms/step - loss: 0.6152 - accuracy: 0.5455 - val_loss: 0.5897 - val_accuracy: 0.5714\n",
      "Epoch 12/50\n",
      "1/1 [==============================] - 0s 32ms/step - loss: 0.6110 - accuracy: 0.5455 - val_loss: 0.5844 - val_accuracy: 0.5714\n",
      "Epoch 13/50\n",
      "1/1 [==============================] - 0s 39ms/step - loss: 0.6068 - accuracy: 0.5455 - val_loss: 0.5791 - val_accuracy: 0.5714\n",
      "Epoch 14/50\n",
      "1/1 [==============================] - 0s 42ms/step - loss: 0.6028 - accuracy: 0.5455 - val_loss: 0.5739 - val_accuracy: 0.5714\n",
      "Epoch 15/50\n",
      "1/1 [==============================] - 0s 36ms/step - loss: 0.5989 - accuracy: 0.5455 - val_loss: 0.5687 - val_accuracy: 0.5714\n",
      "Epoch 16/50\n",
      "1/1 [==============================] - 0s 33ms/step - loss: 0.5949 - accuracy: 0.5455 - val_loss: 0.5634 - val_accuracy: 0.5714\n",
      "Epoch 17/50\n",
      "1/1 [==============================] - 0s 33ms/step - loss: 0.5910 - accuracy: 0.5455 - val_loss: 0.5583 - val_accuracy: 0.5714\n",
      "Epoch 18/50\n",
      "1/1 [==============================] - 0s 35ms/step - loss: 0.5871 - accuracy: 0.5455 - val_loss: 0.5531 - val_accuracy: 0.5714\n",
      "Epoch 19/50\n",
      "1/1 [==============================] - 0s 34ms/step - loss: 0.5834 - accuracy: 0.5455 - val_loss: 0.5481 - val_accuracy: 0.5714\n",
      "Epoch 20/50\n",
      "1/1 [==============================] - 0s 41ms/step - loss: 0.5798 - accuracy: 0.5455 - val_loss: 0.5433 - val_accuracy: 0.5714\n",
      "Epoch 21/50\n",
      "1/1 [==============================] - 0s 50ms/step - loss: 0.5764 - accuracy: 0.5455 - val_loss: 0.5386 - val_accuracy: 0.5714\n",
      "Epoch 22/50\n",
      "1/1 [==============================] - 0s 38ms/step - loss: 0.5731 - accuracy: 0.5455 - val_loss: 0.5340 - val_accuracy: 0.5714\n",
      "Epoch 23/50\n",
      "1/1 [==============================] - 0s 37ms/step - loss: 0.5698 - accuracy: 0.5455 - val_loss: 0.5296 - val_accuracy: 0.5714\n",
      "Epoch 24/50\n",
      "1/1 [==============================] - 0s 35ms/step - loss: 0.5667 - accuracy: 0.5455 - val_loss: 0.5255 - val_accuracy: 0.5714\n",
      "Epoch 25/50\n",
      "1/1 [==============================] - 0s 33ms/step - loss: 0.5639 - accuracy: 0.5455 - val_loss: 0.5215 - val_accuracy: 0.5714\n",
      "Epoch 26/50\n",
      "1/1 [==============================] - 0s 34ms/step - loss: 0.5611 - accuracy: 0.5455 - val_loss: 0.5177 - val_accuracy: 0.5714\n",
      "Epoch 27/50\n",
      "1/1 [==============================] - 0s 35ms/step - loss: 0.5585 - accuracy: 0.5455 - val_loss: 0.5139 - val_accuracy: 0.5714\n",
      "Epoch 28/50\n",
      "1/1 [==============================] - 0s 36ms/step - loss: 0.5560 - accuracy: 0.5455 - val_loss: 0.5103 - val_accuracy: 0.5714\n",
      "Epoch 29/50\n",
      "1/1 [==============================] - 0s 36ms/step - loss: 0.5535 - accuracy: 0.5455 - val_loss: 0.5068 - val_accuracy: 0.5714\n",
      "Epoch 30/50\n",
      "1/1 [==============================] - 0s 33ms/step - loss: 0.5511 - accuracy: 0.5455 - val_loss: 0.5035 - val_accuracy: 0.5714\n",
      "Epoch 31/50\n",
      "1/1 [==============================] - 0s 32ms/step - loss: 0.5488 - accuracy: 0.5455 - val_loss: 0.5004 - val_accuracy: 0.5714\n",
      "Epoch 32/50\n",
      "1/1 [==============================] - 0s 33ms/step - loss: 0.5466 - accuracy: 0.5455 - val_loss: 0.4973 - val_accuracy: 0.5714\n",
      "Epoch 33/50\n",
      "1/1 [==============================] - 0s 35ms/step - loss: 0.5445 - accuracy: 0.5455 - val_loss: 0.4944 - val_accuracy: 0.5714\n",
      "Epoch 34/50\n",
      "1/1 [==============================] - 0s 35ms/step - loss: 0.5424 - accuracy: 0.5455 - val_loss: 0.4915 - val_accuracy: 0.5714\n",
      "Epoch 35/50\n",
      "1/1 [==============================] - 0s 35ms/step - loss: 0.5404 - accuracy: 0.5455 - val_loss: 0.4887 - val_accuracy: 0.5714\n",
      "Epoch 36/50\n",
      "1/1 [==============================] - 0s 33ms/step - loss: 0.5383 - accuracy: 0.5455 - val_loss: 0.4860 - val_accuracy: 0.5714\n",
      "Epoch 37/50\n",
      "1/1 [==============================] - 0s 35ms/step - loss: 0.5362 - accuracy: 0.5455 - val_loss: 0.4833 - val_accuracy: 0.5714\n",
      "Epoch 38/50\n",
      "1/1 [==============================] - 0s 37ms/step - loss: 0.5340 - accuracy: 0.5455 - val_loss: 0.4807 - val_accuracy: 0.5714\n",
      "Epoch 39/50\n",
      "1/1 [==============================] - 0s 34ms/step - loss: 0.5319 - accuracy: 0.5455 - val_loss: 0.4781 - val_accuracy: 0.5714\n",
      "Epoch 40/50\n",
      "1/1 [==============================] - 0s 34ms/step - loss: 0.5296 - accuracy: 0.5455 - val_loss: 0.4756 - val_accuracy: 0.5714\n",
      "Epoch 41/50\n",
      "1/1 [==============================] - 0s 35ms/step - loss: 0.5274 - accuracy: 0.5455 - val_loss: 0.4730 - val_accuracy: 0.5714\n",
      "Epoch 42/50\n",
      "1/1 [==============================] - 0s 34ms/step - loss: 0.5251 - accuracy: 0.5455 - val_loss: 0.4705 - val_accuracy: 0.5714\n",
      "Epoch 43/50\n",
      "1/1 [==============================] - 0s 33ms/step - loss: 0.5227 - accuracy: 0.5455 - val_loss: 0.4680 - val_accuracy: 0.5714\n",
      "Epoch 44/50\n",
      "1/1 [==============================] - 0s 34ms/step - loss: 0.5203 - accuracy: 0.5455 - val_loss: 0.4655 - val_accuracy: 0.5714\n",
      "Epoch 45/50\n",
      "1/1 [==============================] - 0s 34ms/step - loss: 0.5179 - accuracy: 0.5455 - val_loss: 0.4631 - val_accuracy: 0.5714\n",
      "Epoch 46/50\n",
      "1/1 [==============================] - 0s 35ms/step - loss: 0.5154 - accuracy: 0.5455 - val_loss: 0.4606 - val_accuracy: 0.5714\n",
      "Epoch 47/50\n",
      "1/1 [==============================] - 0s 34ms/step - loss: 0.5129 - accuracy: 0.5455 - val_loss: 0.4582 - val_accuracy: 0.5714\n",
      "Epoch 48/50\n",
      "1/1 [==============================] - 0s 34ms/step - loss: 0.5104 - accuracy: 0.5455 - val_loss: 0.4558 - val_accuracy: 0.5714\n",
      "Epoch 49/50\n",
      "1/1 [==============================] - 0s 37ms/step - loss: 0.5079 - accuracy: 0.5455 - val_loss: 0.4533 - val_accuracy: 0.7143\n",
      "Epoch 50/50\n",
      "1/1 [==============================] - 0s 34ms/step - loss: 0.5053 - accuracy: 0.5455 - val_loss: 0.4506 - val_accuracy: 0.7143\n"
     ]
    },
    {
     "data": {
      "text/plain": [
       "<keras.src.callbacks.History at 0x14ba014be50>"
      ]
     },
     "execution_count": 7,
     "metadata": {},
     "output_type": "execute_result"
    }
   ],
   "source": [
    "# Mengkonfigurasi Model\n",
    "model.compile(optimizer='Adam', loss='binary_crossentropy', metrics=['accuracy'])\n",
    "\n",
    "# Train the model\n",
    "model.fit(X_train,y_train, batch_size=64, epochs=50, validation_data=(X_val,y_val))"
   ]
  },
  {
   "cell_type": "markdown",
   "metadata": {},
   "source": [
    "## Validasi Model JST"
   ]
  },
  {
   "cell_type": "markdown",
   "metadata": {},
   "source": [
    "Untuk menjalankan model JST untuk input yang lain bisa menggunakan fungsi \"model.evaluate\". Sebenarnya validasi sudah sekaligus dijalankan ketika proses pelatihan pada langkah sebelumnya."
   ]
  },
  {
   "cell_type": "markdown",
   "metadata": {},
   "source": [
    "Untuk mengetahui akurasi sebuah model JST, fungsi yang digunakan adalah \"evaluate\", sementara untuk memprediksi hasil dari satu inputan dengan fungsi \"predict\". Karena tahap validasi maka akan diuji dengan memprediksi keluaran JST terhadap masukan data validasi, dilanjutkan dengan mengukur akurasinya."
   ]
  },
  {
   "cell_type": "code",
   "execution_count": 8,
   "metadata": {},
   "outputs": [
    {
     "name": "stdout",
     "output_type": "stream",
     "text": [
      "1/1 [==============================] - 0s 113ms/step\n",
      "[[0.49474585]\n",
      " [0.56898284]\n",
      " [0.56626755]\n",
      " [0.7981481 ]\n",
      " [0.7852256 ]\n",
      " [0.87436134]\n",
      " [0.82416415]]\n"
     ]
    }
   ],
   "source": [
    "# Prediksi hasil simulasi model JST terhadap data validasi\n",
    "pred = model.predict(X_val)\n",
    "print(pred)"
   ]
  },
  {
   "cell_type": "code",
   "execution_count": 9,
   "metadata": {},
   "outputs": [
    {
     "name": "stdout",
     "output_type": "stream",
     "text": [
      "1/1 [==============================] - 0s 32ms/step - loss: 0.4506 - accuracy: 0.7143\n",
      "1/1 [==============================] - 0s 27ms/step - loss: 0.4506 - accuracy: 0.7143\n",
      "['loss', 'accuracy'] [0.4506458640098572, 0.7142857313156128]\n"
     ]
    }
   ],
   "source": [
    "# Menghitung akurasi dan error(loss)\n",
    "model.evaluate(x=X_val, y=y_val, batch_size=None, verbose=1, sample_weight=None, steps=None)\n",
    "print(model.metrics_names, model.evaluate(X_val, y_val))"
   ]
  },
  {
   "cell_type": "markdown",
   "metadata": {},
   "source": [
    "Jika kita perhatikan hasil di atas antara prediksi (pred) dengan target (y_val) menunjukan error sebanyak dua buah pada baris kedua dan ketiga dimana harusnya nol tapi menunjukan 0,54 dan 0,53 yang jika dibulatkan menjadi satu. Dengan akurasi versi Mean Average Percentage Error (MAPE) diperoleh error 2/7 = 0,29 (29%)."
   ]
  },
  {
   "cell_type": "markdown",
   "metadata": {},
   "source": [
    "## Menyimpan Model JST"
   ]
  },
  {
   "cell_type": "markdown",
   "metadata": {},
   "source": [
    "Tahap Penting Berikutnya adalah menyimpan model JST yang telah dilatih dalam bentuk file agar bisa digunakan utk program python lainnya.\n",
    "Sementara itu yg perlu diingat, yg disimpan adalah bobot dan bias hasil pelatihan dalam model JST yang disimpan.\n",
    "Arsitektur tersimpan dlm file berekstensi *.h5."
   ]
  },
  {
   "cell_type": "code",
   "execution_count": 10,
   "metadata": {},
   "outputs": [
    {
     "name": "stdout",
     "output_type": "stream",
     "text": [
      "save model to disk\n"
     ]
    }
   ],
   "source": [
    "# Serialize model to YAML\n",
    "model_json = model.to_json()\n",
    "with open(\"model.yaml\", \"w\") as json_file:\n",
    "    json_file.write(model_json)\n",
    "\n",
    "# Serialize Weights to HDF5\n",
    "model.save_weights(\"model.h5\")\n",
    "print(\"save model to disk\")"
   ]
  }
 ],
 "metadata": {
  "kernelspec": {
   "display_name": "tensorflow",
   "language": "python",
   "name": "python3"
  },
  "language_info": {
   "codemirror_mode": {
    "name": "ipython",
    "version": 3
   },
   "file_extension": ".py",
   "mimetype": "text/x-python",
   "name": "python",
   "nbconvert_exporter": "python",
   "pygments_lexer": "ipython3",
   "version": "3.9.17"
  },
  "orig_nbformat": 4
 },
 "nbformat": 4,
 "nbformat_minor": 2
}
